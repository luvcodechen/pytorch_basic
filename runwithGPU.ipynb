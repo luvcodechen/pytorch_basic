{
 "cells": [
  {
   "cell_type": "code",
   "execution_count": 56,
   "id": "initial_id",
   "metadata": {
    "collapsed": true,
    "ExecuteTime": {
     "end_time": "2023-11-13T01:39:47.466748300Z",
     "start_time": "2023-11-13T01:39:47.430128500Z"
    }
   },
   "outputs": [
    {
     "name": "stdout",
     "output_type": "stream",
     "text": [
      "E:\\python_tools\\anaconda3\\envs\\test\\python.exe\n"
     ]
    }
   ],
   "source": [
    "import json\n",
    "import time\n",
    "\n",
    "import pandas as pd\n",
    "import torch\n",
    "import torch.nn as nn\n",
    "import torch.nn.functional as F\n",
    "import torch.optim as optim\n",
    "import torchvision\n",
    "import torchvision.transforms as transforms\n",
    "from IPython.core.display_functions import clear_output\n",
    "from torch.utils import data\n",
    "from collections import OrderedDict\n",
    "from collections import namedtuple\n",
    "from itertools import product\n",
    "from PIL import Image\n",
    "from torch.utils.data import DataLoader\n",
    "\n",
    "torch.set_printoptions(linewidth=120)  # Display options for output\n",
    "torch.set_grad_enabled(True)\n",
    "\n",
    "# tensorboard --version\n",
    "from tensorboardX import SummaryWriter\n",
    "import sys\n",
    "\n",
    "print(sys.executable)\n"
   ]
  },
  {
   "cell_type": "code",
   "execution_count": 57,
   "outputs": [],
   "source": [
    "class Network(nn.Module):\n",
    "    def __init__(self):\n",
    "        super().__init__()\n",
    "        self.conv1 = nn.Conv2d(in_channels=1, out_channels=6, kernel_size=5)\n",
    "        self.conv2 = nn.Conv2d(in_channels=6, out_channels=12, kernel_size=5)\n",
    "\n",
    "        self.fc1 = nn.Linear(in_features=12 * 4 * 4, out_features=120)\n",
    "        self.fc2 = nn.Linear(in_features=120, out_features=60)\n",
    "        self.out = nn.Linear(in_features=60, out_features=10)\n",
    "        # self.layer = None\n",
    "\n",
    "    def forward(self, t):\n",
    "        # t = self.layer(t)\n",
    "        # implement the forward pass\n",
    "\n",
    "        # (1) input layer\n",
    "        t = t\n",
    "\n",
    "        # (2) hidden conv layer\n",
    "        t = self.conv1(t)\n",
    "        t = F.relu(t)\n",
    "        t = F.max_pool2d(t, kernel_size=2, stride=2)\n",
    "\n",
    "        # (3) hidden conv layer\n",
    "        t = self.conv2(t)\n",
    "        t = F.relu(t)\n",
    "        t = F.max_pool2d(t, kernel_size=2, stride=2)\n",
    "\n",
    "        # (4) hidden liner layer\n",
    "        t = t.reshape(-1, 12 * 4 * 4)\n",
    "        t = self.fc1(t)\n",
    "        t = F.relu(t)\n",
    "\n",
    "        # (5) hidden liner layer\n",
    "        t = self.fc2(t)\n",
    "        t = F.relu(t)\n",
    "\n",
    "        # (6) output layer\n",
    "        t = self.out(t)\n",
    "        # t = F.softmax(t, dim=1)\n",
    "\n",
    "        return t"
   ],
   "metadata": {
    "collapsed": false,
    "ExecuteTime": {
     "end_time": "2023-11-13T01:39:47.507823500Z",
     "start_time": "2023-11-13T01:39:47.436865Z"
    }
   },
   "id": "ecb36092ce2ac971"
  },
  {
   "cell_type": "code",
   "execution_count": 58,
   "outputs": [],
   "source": [
    "network = Network()"
   ],
   "metadata": {
    "collapsed": false,
    "ExecuteTime": {
     "end_time": "2023-11-13T01:39:47.507823500Z",
     "start_time": "2023-11-13T01:39:47.449242800Z"
    }
   },
   "id": "1ebdf2828d9dd9b6"
  },
  {
   "cell_type": "code",
   "execution_count": 59,
   "outputs": [
    {
     "name": "stdout",
     "output_type": "stream",
     "text": [
      "conv1.weight \t\t\t torch.Size([6, 1, 5, 5])\n",
      "conv1.bias \t\t\t torch.Size([6])\n",
      "conv2.weight \t\t\t torch.Size([12, 6, 5, 5])\n",
      "conv2.bias \t\t\t torch.Size([12])\n",
      "fc1.weight \t\t\t torch.Size([120, 192])\n",
      "fc1.bias \t\t\t torch.Size([120])\n",
      "fc2.weight \t\t\t torch.Size([60, 120])\n",
      "fc2.bias \t\t\t torch.Size([60])\n",
      "out.weight \t\t\t torch.Size([10, 60])\n",
      "out.bias \t\t\t torch.Size([10])\n"
     ]
    }
   ],
   "source": [
    "for name, param in network.named_parameters():\n",
    "    print(name, '\\t\\t\\t', param.shape)"
   ],
   "metadata": {
    "collapsed": false,
    "ExecuteTime": {
     "end_time": "2023-11-13T01:39:47.509935300Z",
     "start_time": "2023-11-13T01:39:47.464396800Z"
    }
   },
   "id": "699eb86416df44c7"
  },
  {
   "cell_type": "code",
   "execution_count": 60,
   "outputs": [
    {
     "name": "stdout",
     "output_type": "stream",
     "text": [
      "cpu   conv1.weight\n",
      "cpu   conv1.bias\n",
      "cpu   conv2.weight\n",
      "cpu   conv2.bias\n",
      "cpu   fc1.weight\n",
      "cpu   fc1.bias\n",
      "cpu   fc2.weight\n",
      "cpu   fc2.bias\n",
      "cpu   out.weight\n",
      "cpu   out.bias\n"
     ]
    }
   ],
   "source": [
    "for n, p in network.named_parameters():\n",
    "    print(p.device, ' ', n)"
   ],
   "metadata": {
    "collapsed": false,
    "ExecuteTime": {
     "end_time": "2023-11-13T01:39:47.509935300Z",
     "start_time": "2023-11-13T01:39:47.481824600Z"
    }
   },
   "id": "41c9670aa8688bb4"
  },
  {
   "cell_type": "code",
   "execution_count": 61,
   "outputs": [
    {
     "data": {
      "text/plain": "Network(\n  (conv1): Conv2d(1, 6, kernel_size=(5, 5), stride=(1, 1))\n  (conv2): Conv2d(6, 12, kernel_size=(5, 5), stride=(1, 1))\n  (fc1): Linear(in_features=192, out_features=120, bias=True)\n  (fc2): Linear(in_features=120, out_features=60, bias=True)\n  (out): Linear(in_features=60, out_features=10, bias=True)\n)"
     },
     "execution_count": 61,
     "metadata": {},
     "output_type": "execute_result"
    }
   ],
   "source": [
    "network.to('cuda')"
   ],
   "metadata": {
    "collapsed": false,
    "ExecuteTime": {
     "end_time": "2023-11-13T01:39:47.520994500Z",
     "start_time": "2023-11-13T01:39:47.495745300Z"
    }
   },
   "id": "786d9ec94c5d95f4"
  },
  {
   "cell_type": "code",
   "execution_count": 62,
   "outputs": [
    {
     "name": "stdout",
     "output_type": "stream",
     "text": [
      "cuda:0   conv1.weight\n",
      "cuda:0   conv1.bias\n",
      "cuda:0   conv2.weight\n",
      "cuda:0   conv2.bias\n",
      "cuda:0   fc1.weight\n",
      "cuda:0   fc1.bias\n",
      "cuda:0   fc2.weight\n",
      "cuda:0   fc2.bias\n",
      "cuda:0   out.weight\n",
      "cuda:0   out.bias\n"
     ]
    }
   ],
   "source": [
    "for n, p in network.named_parameters():\n",
    "    print(p.device, ' ', n)"
   ],
   "metadata": {
    "collapsed": false,
    "ExecuteTime": {
     "end_time": "2023-11-13T01:39:47.537840400Z",
     "start_time": "2023-11-13T01:39:47.510937600Z"
    }
   },
   "id": "1aab8888ddc601fb"
  },
  {
   "cell_type": "code",
   "execution_count": 63,
   "outputs": [
    {
     "data": {
      "text/plain": "torch.Size([1, 1, 28, 28])"
     },
     "execution_count": 63,
     "metadata": {},
     "output_type": "execute_result"
    }
   ],
   "source": [
    "sample = torch.ones(1, 1, 28, 28)\n",
    "sample.shape"
   ],
   "metadata": {
    "collapsed": false,
    "ExecuteTime": {
     "end_time": "2023-11-13T01:39:47.595721200Z",
     "start_time": "2023-11-13T01:39:47.527257200Z"
    }
   },
   "id": "435f5ce845a3778"
  },
  {
   "cell_type": "code",
   "execution_count": 64,
   "outputs": [
    {
     "name": "stdout",
     "output_type": "stream",
     "text": [
      "Input type (torch.FloatTensor) and weight type (torch.cuda.FloatTensor) should be the same or input should be a MKLDNN tensor and weight is a dense tensor\n"
     ]
    }
   ],
   "source": [
    "try:\n",
    "    network(sample)\n",
    "except Exception as e:\n",
    "    print(e)"
   ],
   "metadata": {
    "collapsed": false,
    "ExecuteTime": {
     "end_time": "2023-11-13T01:39:47.596744800Z",
     "start_time": "2023-11-13T01:39:47.543287600Z"
    }
   },
   "id": "a68b8e8c1a4434d3"
  },
  {
   "cell_type": "code",
   "execution_count": 65,
   "outputs": [
    {
     "name": "stdout",
     "output_type": "stream",
     "text": [
      "tensor([[-0.0422,  0.1080,  0.0624,  0.0086, -0.0168, -0.1517, -0.1006, -0.0757, -0.0408,  0.1311]], device='cuda:0',\n",
      "       grad_fn=<AddmmBackward0>)\n"
     ]
    }
   ],
   "source": [
    "try:\n",
    "    pred = network(sample.to('cuda'))\n",
    "    print(pred)\n",
    "except Exception as e:\n",
    "    print(e)"
   ],
   "metadata": {
    "collapsed": false,
    "ExecuteTime": {
     "end_time": "2023-11-13T01:39:47.596744800Z",
     "start_time": "2023-11-13T01:39:47.556968100Z"
    }
   },
   "id": "5ba63716b1f69a76"
  },
  {
   "cell_type": "markdown",
   "source": [
    "# Checking for GPU"
   ],
   "metadata": {
    "collapsed": false
   },
   "id": "242ef3870f2ec91f"
  },
  {
   "cell_type": "code",
   "execution_count": 66,
   "outputs": [
    {
     "data": {
      "text/plain": "True"
     },
     "execution_count": 66,
     "metadata": {},
     "output_type": "execute_result"
    }
   ],
   "source": [
    "torch.cuda.is_available()"
   ],
   "metadata": {
    "collapsed": false,
    "ExecuteTime": {
     "end_time": "2023-11-13T01:39:47.598751Z",
     "start_time": "2023-11-13T01:39:47.572562100Z"
    }
   },
   "id": "e5379de855e869c3"
  },
  {
   "cell_type": "markdown",
   "source": [
    "# Using the GPU：TEST "
   ],
   "metadata": {
    "collapsed": false
   },
   "id": "49f6ede574cb80b"
  },
  {
   "cell_type": "code",
   "execution_count": 67,
   "outputs": [],
   "source": [
    "class RunBuilder:\n",
    "    @staticmethod\n",
    "    def get_runs(params):\n",
    "        Run = namedtuple('Run', params.keys())\n",
    "\n",
    "        runs = []\n",
    "        for v in product(*params.values()):\n",
    "            runs.append(Run(*v))\n",
    "\n",
    "        return runs"
   ],
   "metadata": {
    "collapsed": false,
    "ExecuteTime": {
     "end_time": "2023-11-13T01:39:47.660633500Z",
     "start_time": "2023-11-13T01:39:47.588683300Z"
    }
   },
   "id": "a857d48dec05fb82"
  },
  {
   "cell_type": "code",
   "execution_count": 68,
   "outputs": [],
   "source": [
    "class RunManager:\n",
    "    def __init__(self):\n",
    "        self.epoch_count = 0\n",
    "        self.epoch_loss = 0\n",
    "        self.epoch_num_correct = 0\n",
    "        self.epoch_start_time = 0\n",
    "\n",
    "        self.run_params = 0\n",
    "        self.run_count = 0\n",
    "        self.run_data = []\n",
    "        self.run_start_time = None\n",
    "\n",
    "        self.network = None\n",
    "        self.loader = None\n",
    "        # self.tb = None\n",
    "\n",
    "    def begin_run(self, run, network, loader):\n",
    "        self.run_start_time = time.time()\n",
    "        self.run_params = run\n",
    "        self.run_count += 1\n",
    "\n",
    "        self.network = network\n",
    "        self.loader = loader\n",
    "        # self.tb = SummaryWriter(comment=f'{run}')\n",
    "\n",
    "        images, labels = next(iter(self.loader))\n",
    "        grid = torchvision.utils.make_grid(images)\n",
    "\n",
    "        # self.tb.add_image('images', grid)\n",
    "        # self.tb.add_graph(self.network, images)\n",
    "\n",
    "    def end_run(self):\n",
    "        # self.tb.close()\n",
    "        self.epoch_count = 0\n",
    "\n",
    "    def begin_epoch(self):\n",
    "        self.epoch_start_time = time.time()\n",
    "\n",
    "        self.epoch_count += 1\n",
    "        self.epoch_loss = 0\n",
    "        self.epoch_num_correct = 0\n",
    "\n",
    "    def end_epoch(self):\n",
    "        epoch_duration = time.time() - self.epoch_start_time\n",
    "        run_duration = time.time() - self.run_start_time\n",
    "\n",
    "        loss = self.epoch_loss / len(self.loader.dataset)\n",
    "        accuracy = self.epoch_num_correct / len(self.loader.dataset)\n",
    "\n",
    "        # self.tb.add_scalar('Loss', loss, self.epoch_count)\n",
    "        # self.tb.add_scalar('Accuracy', accuracy, self.epoch_count)\n",
    "\n",
    "        # for name, param in self.network.named_parameters():\n",
    "        #     self.tb.add_histogram(name, param, self.epoch_count)\n",
    "        #     self.tb.add_histogram(f'{name}.grad', param.grad, self.epoch_count)\n",
    "\n",
    "        results = OrderedDict()\n",
    "        results[\"run\"] = self.run_count\n",
    "        results[\"epoch\"] = self.epoch_count\n",
    "        results[\"loss\"] = loss\n",
    "        results[\"accuracy\"] = accuracy\n",
    "        results[\"epoch duration\"] = epoch_duration\n",
    "        results[\"run duration\"] = run_duration\n",
    "\n",
    "        for k, v, in self.run_params._asdict().items(): results[k] = v\n",
    "        self.run_data.append(results)\n",
    "        df = pd.DataFrame.from_dict(self.run_data, orient='columns')\n",
    "\n",
    "        clear_output(wait=True)\n",
    "        display(df)\n",
    "\n",
    "    def track_loss(self, loss):\n",
    "        self.epoch_loss += loss.item() * self.loader.batch_size\n",
    "\n",
    "    def track_num_correct(self, preds, labels):\n",
    "        self.epoch_num_correct += self._get_num_correct(preds, labels)\n",
    "\n",
    "    @torch.no_grad()\n",
    "    def _get_num_correct(self, preds, labels):\n",
    "        return preds.argmax(dim=1).eq(labels).sum().item()\n",
    "\n",
    "    def save(self, filename):\n",
    "        pd.DataFrame.from_dict(\n",
    "            self.run_data\n",
    "            , orient='columns'\n",
    "        ).to_csv(f'{filename}.csv')\n",
    "\n",
    "        with open(f'{filename}.json', 'w', encoding='utf-8') as f:\n",
    "            json.dump(self.run_data, f, ensure_ascii=False, indent=4)"
   ],
   "metadata": {
    "collapsed": false,
    "ExecuteTime": {
     "end_time": "2023-11-13T01:39:47.661637500Z",
     "start_time": "2023-11-13T01:39:47.604324100Z"
    }
   },
   "id": "b57845c9518f6c5b"
  },
  {
   "cell_type": "code",
   "execution_count": 71,
   "outputs": [
    {
     "data": {
      "text/plain": "    run  epoch      loss  accuracy  epoch duration  run duration    lr  \\\n0     1      1  1.017178  0.610800        6.829190      6.926690  0.01   \n1     2      1  0.983591  0.612000        6.931687      7.027502  0.01   \n2     3      1  1.030171  0.606017        7.096156      9.850043  0.01   \n3     4      1  1.040903  0.604583        8.680178     11.462076  0.01   \n4     5      1  2.059769  0.226667        5.408729      6.432456  0.01   \n5     6      1  2.145892  0.189467        7.177294      8.144437  0.01   \n6     7      1  2.148961  0.249283        6.948133     11.357591  0.01   \n7     8      1  2.111276  0.267200        8.446633     12.631428  0.01   \n8     9      1  2.279327  0.157950        5.267200      7.174823  0.01   \n9    10      1  2.273614  0.135917        7.297822      9.267780  0.01   \n10   11      1  2.292907  0.128067        7.072798     13.165866  0.01   \n11   12      1  2.294130  0.159383        8.375601     14.274128  0.01   \n\n    batch_size  num_workers device  \n0         1000            0   cuda  \n1         1000            0    cpu  \n2         1000            1   cuda  \n3         1000            1    cpu  \n4        10000            0   cuda  \n5        10000            0    cpu  \n6        10000            1   cuda  \n7        10000            1    cpu  \n8        20000            0   cuda  \n9        20000            0    cpu  \n10       20000            1   cuda  \n11       20000            1    cpu  ",
      "text/html": "<div>\n<style scoped>\n    .dataframe tbody tr th:only-of-type {\n        vertical-align: middle;\n    }\n\n    .dataframe tbody tr th {\n        vertical-align: top;\n    }\n\n    .dataframe thead th {\n        text-align: right;\n    }\n</style>\n<table border=\"1\" class=\"dataframe\">\n  <thead>\n    <tr style=\"text-align: right;\">\n      <th></th>\n      <th>run</th>\n      <th>epoch</th>\n      <th>loss</th>\n      <th>accuracy</th>\n      <th>epoch duration</th>\n      <th>run duration</th>\n      <th>lr</th>\n      <th>batch_size</th>\n      <th>num_workers</th>\n      <th>device</th>\n    </tr>\n  </thead>\n  <tbody>\n    <tr>\n      <th>0</th>\n      <td>1</td>\n      <td>1</td>\n      <td>1.017178</td>\n      <td>0.610800</td>\n      <td>6.829190</td>\n      <td>6.926690</td>\n      <td>0.01</td>\n      <td>1000</td>\n      <td>0</td>\n      <td>cuda</td>\n    </tr>\n    <tr>\n      <th>1</th>\n      <td>2</td>\n      <td>1</td>\n      <td>0.983591</td>\n      <td>0.612000</td>\n      <td>6.931687</td>\n      <td>7.027502</td>\n      <td>0.01</td>\n      <td>1000</td>\n      <td>0</td>\n      <td>cpu</td>\n    </tr>\n    <tr>\n      <th>2</th>\n      <td>3</td>\n      <td>1</td>\n      <td>1.030171</td>\n      <td>0.606017</td>\n      <td>7.096156</td>\n      <td>9.850043</td>\n      <td>0.01</td>\n      <td>1000</td>\n      <td>1</td>\n      <td>cuda</td>\n    </tr>\n    <tr>\n      <th>3</th>\n      <td>4</td>\n      <td>1</td>\n      <td>1.040903</td>\n      <td>0.604583</td>\n      <td>8.680178</td>\n      <td>11.462076</td>\n      <td>0.01</td>\n      <td>1000</td>\n      <td>1</td>\n      <td>cpu</td>\n    </tr>\n    <tr>\n      <th>4</th>\n      <td>5</td>\n      <td>1</td>\n      <td>2.059769</td>\n      <td>0.226667</td>\n      <td>5.408729</td>\n      <td>6.432456</td>\n      <td>0.01</td>\n      <td>10000</td>\n      <td>0</td>\n      <td>cuda</td>\n    </tr>\n    <tr>\n      <th>5</th>\n      <td>6</td>\n      <td>1</td>\n      <td>2.145892</td>\n      <td>0.189467</td>\n      <td>7.177294</td>\n      <td>8.144437</td>\n      <td>0.01</td>\n      <td>10000</td>\n      <td>0</td>\n      <td>cpu</td>\n    </tr>\n    <tr>\n      <th>6</th>\n      <td>7</td>\n      <td>1</td>\n      <td>2.148961</td>\n      <td>0.249283</td>\n      <td>6.948133</td>\n      <td>11.357591</td>\n      <td>0.01</td>\n      <td>10000</td>\n      <td>1</td>\n      <td>cuda</td>\n    </tr>\n    <tr>\n      <th>7</th>\n      <td>8</td>\n      <td>1</td>\n      <td>2.111276</td>\n      <td>0.267200</td>\n      <td>8.446633</td>\n      <td>12.631428</td>\n      <td>0.01</td>\n      <td>10000</td>\n      <td>1</td>\n      <td>cpu</td>\n    </tr>\n    <tr>\n      <th>8</th>\n      <td>9</td>\n      <td>1</td>\n      <td>2.279327</td>\n      <td>0.157950</td>\n      <td>5.267200</td>\n      <td>7.174823</td>\n      <td>0.01</td>\n      <td>20000</td>\n      <td>0</td>\n      <td>cuda</td>\n    </tr>\n    <tr>\n      <th>9</th>\n      <td>10</td>\n      <td>1</td>\n      <td>2.273614</td>\n      <td>0.135917</td>\n      <td>7.297822</td>\n      <td>9.267780</td>\n      <td>0.01</td>\n      <td>20000</td>\n      <td>0</td>\n      <td>cpu</td>\n    </tr>\n    <tr>\n      <th>10</th>\n      <td>11</td>\n      <td>1</td>\n      <td>2.292907</td>\n      <td>0.128067</td>\n      <td>7.072798</td>\n      <td>13.165866</td>\n      <td>0.01</td>\n      <td>20000</td>\n      <td>1</td>\n      <td>cuda</td>\n    </tr>\n    <tr>\n      <th>11</th>\n      <td>12</td>\n      <td>1</td>\n      <td>2.294130</td>\n      <td>0.159383</td>\n      <td>8.375601</td>\n      <td>14.274128</td>\n      <td>0.01</td>\n      <td>20000</td>\n      <td>1</td>\n      <td>cpu</td>\n    </tr>\n  </tbody>\n</table>\n</div>"
     },
     "metadata": {},
     "output_type": "display_data"
    }
   ],
   "source": [
    "train_set = torchvision.datasets.FashionMNIST(root='./data/FashionMNIST', train=True, download=True, transform=transforms.Compose([transforms.ToTensor()]))\n",
    "\n",
    "params = OrderedDict(\n",
    "    lr=[.01]\n",
    "    , batch_size=[1000, 10000, 20000]\n",
    "    , num_workers=[0, 1]\n",
    "    , device=['cuda', 'cpu']\n",
    ")\n",
    "\n",
    "m = RunManager()\n",
    "\n",
    "for run in RunBuilder.get_runs(params):\n",
    "    device = torch.device(run.device)\n",
    "    network = Network().to(device)\n",
    "    loader = DataLoader(train_set, batch_size=run.batch_size, num_workers=run.num_workers)\n",
    "    optimizer = optim.Adam(network.parameters(), lr=run.lr)\n",
    "\n",
    "    m.begin_run(run, network, loader)\n",
    "    for epoch in range(1):\n",
    "        m.begin_epoch()\n",
    "        for batch in loader:\n",
    "            images = batch[0].to(device)\n",
    "            labels = batch[1].to(device)\n",
    "            preds = network(images)\n",
    "            loss = F.cross_entropy(preds, labels)\n",
    "            optimizer.zero_grad()\n",
    "            loss.backward()\n",
    "            optimizer.step()\n",
    "\n",
    "            m.track_loss(loss)\n",
    "            m.track_num_correct(preds, labels)\n",
    "        m.end_epoch()\n",
    "    m.end_run()\n",
    "m.save('result2')"
   ],
   "metadata": {
    "collapsed": false
   },
   "id": "7697de802c708c51"
  },
  {
   "cell_type": "code",
   "execution_count": 72,
   "outputs": [
    {
     "data": {
      "text/plain": "    run  epoch      loss  accuracy  epoch duration  run duration    lr  \\\n8     9      1  2.279327  0.157950        5.267200      7.174823  0.01   \n4     5      1  2.059769  0.226667        5.408729      6.432456  0.01   \n0     1      1  1.017178  0.610800        6.829190      6.926690  0.01   \n1     2      1  0.983591  0.612000        6.931687      7.027502  0.01   \n6     7      1  2.148961  0.249283        6.948133     11.357591  0.01   \n10   11      1  2.292907  0.128067        7.072798     13.165866  0.01   \n2     3      1  1.030171  0.606017        7.096156      9.850043  0.01   \n5     6      1  2.145892  0.189467        7.177294      8.144437  0.01   \n9    10      1  2.273614  0.135917        7.297822      9.267780  0.01   \n11   12      1  2.294130  0.159383        8.375601     14.274128  0.01   \n7     8      1  2.111276  0.267200        8.446633     12.631428  0.01   \n3     4      1  1.040903  0.604583        8.680178     11.462076  0.01   \n\n    batch_size  num_workers device  \n8        20000            0   cuda  \n4        10000            0   cuda  \n0         1000            0   cuda  \n1         1000            0    cpu  \n6        10000            1   cuda  \n10       20000            1   cuda  \n2         1000            1   cuda  \n5        10000            0    cpu  \n9        20000            0    cpu  \n11       20000            1    cpu  \n7        10000            1    cpu  \n3         1000            1    cpu  ",
      "text/html": "<div>\n<style scoped>\n    .dataframe tbody tr th:only-of-type {\n        vertical-align: middle;\n    }\n\n    .dataframe tbody tr th {\n        vertical-align: top;\n    }\n\n    .dataframe thead th {\n        text-align: right;\n    }\n</style>\n<table border=\"1\" class=\"dataframe\">\n  <thead>\n    <tr style=\"text-align: right;\">\n      <th></th>\n      <th>run</th>\n      <th>epoch</th>\n      <th>loss</th>\n      <th>accuracy</th>\n      <th>epoch duration</th>\n      <th>run duration</th>\n      <th>lr</th>\n      <th>batch_size</th>\n      <th>num_workers</th>\n      <th>device</th>\n    </tr>\n  </thead>\n  <tbody>\n    <tr>\n      <th>8</th>\n      <td>9</td>\n      <td>1</td>\n      <td>2.279327</td>\n      <td>0.157950</td>\n      <td>5.267200</td>\n      <td>7.174823</td>\n      <td>0.01</td>\n      <td>20000</td>\n      <td>0</td>\n      <td>cuda</td>\n    </tr>\n    <tr>\n      <th>4</th>\n      <td>5</td>\n      <td>1</td>\n      <td>2.059769</td>\n      <td>0.226667</td>\n      <td>5.408729</td>\n      <td>6.432456</td>\n      <td>0.01</td>\n      <td>10000</td>\n      <td>0</td>\n      <td>cuda</td>\n    </tr>\n    <tr>\n      <th>0</th>\n      <td>1</td>\n      <td>1</td>\n      <td>1.017178</td>\n      <td>0.610800</td>\n      <td>6.829190</td>\n      <td>6.926690</td>\n      <td>0.01</td>\n      <td>1000</td>\n      <td>0</td>\n      <td>cuda</td>\n    </tr>\n    <tr>\n      <th>1</th>\n      <td>2</td>\n      <td>1</td>\n      <td>0.983591</td>\n      <td>0.612000</td>\n      <td>6.931687</td>\n      <td>7.027502</td>\n      <td>0.01</td>\n      <td>1000</td>\n      <td>0</td>\n      <td>cpu</td>\n    </tr>\n    <tr>\n      <th>6</th>\n      <td>7</td>\n      <td>1</td>\n      <td>2.148961</td>\n      <td>0.249283</td>\n      <td>6.948133</td>\n      <td>11.357591</td>\n      <td>0.01</td>\n      <td>10000</td>\n      <td>1</td>\n      <td>cuda</td>\n    </tr>\n    <tr>\n      <th>10</th>\n      <td>11</td>\n      <td>1</td>\n      <td>2.292907</td>\n      <td>0.128067</td>\n      <td>7.072798</td>\n      <td>13.165866</td>\n      <td>0.01</td>\n      <td>20000</td>\n      <td>1</td>\n      <td>cuda</td>\n    </tr>\n    <tr>\n      <th>2</th>\n      <td>3</td>\n      <td>1</td>\n      <td>1.030171</td>\n      <td>0.606017</td>\n      <td>7.096156</td>\n      <td>9.850043</td>\n      <td>0.01</td>\n      <td>1000</td>\n      <td>1</td>\n      <td>cuda</td>\n    </tr>\n    <tr>\n      <th>5</th>\n      <td>6</td>\n      <td>1</td>\n      <td>2.145892</td>\n      <td>0.189467</td>\n      <td>7.177294</td>\n      <td>8.144437</td>\n      <td>0.01</td>\n      <td>10000</td>\n      <td>0</td>\n      <td>cpu</td>\n    </tr>\n    <tr>\n      <th>9</th>\n      <td>10</td>\n      <td>1</td>\n      <td>2.273614</td>\n      <td>0.135917</td>\n      <td>7.297822</td>\n      <td>9.267780</td>\n      <td>0.01</td>\n      <td>20000</td>\n      <td>0</td>\n      <td>cpu</td>\n    </tr>\n    <tr>\n      <th>11</th>\n      <td>12</td>\n      <td>1</td>\n      <td>2.294130</td>\n      <td>0.159383</td>\n      <td>8.375601</td>\n      <td>14.274128</td>\n      <td>0.01</td>\n      <td>20000</td>\n      <td>1</td>\n      <td>cpu</td>\n    </tr>\n    <tr>\n      <th>7</th>\n      <td>8</td>\n      <td>1</td>\n      <td>2.111276</td>\n      <td>0.267200</td>\n      <td>8.446633</td>\n      <td>12.631428</td>\n      <td>0.01</td>\n      <td>10000</td>\n      <td>1</td>\n      <td>cpu</td>\n    </tr>\n    <tr>\n      <th>3</th>\n      <td>4</td>\n      <td>1</td>\n      <td>1.040903</td>\n      <td>0.604583</td>\n      <td>8.680178</td>\n      <td>11.462076</td>\n      <td>0.01</td>\n      <td>1000</td>\n      <td>1</td>\n      <td>cpu</td>\n    </tr>\n  </tbody>\n</table>\n</div>"
     },
     "execution_count": 72,
     "metadata": {},
     "output_type": "execute_result"
    }
   ],
   "source": [
    "pd.DataFrame.from_dict(m.run_data,orient='columns').sort_values('epoch duration')"
   ],
   "metadata": {
    "collapsed": false,
    "ExecuteTime": {
     "end_time": "2023-11-13T01:55:43.192262700Z",
     "start_time": "2023-11-13T01:55:43.139123800Z"
    }
   },
   "id": "d6fd326776b314ff"
  },
  {
   "cell_type": "code",
   "execution_count": null,
   "outputs": [],
   "source": [],
   "metadata": {
    "collapsed": false
   },
   "id": "c4fb5d33726b0f34"
  }
 ],
 "metadata": {
  "kernelspec": {
   "name": "test",
   "language": "python",
   "display_name": "test"
  },
  "language_info": {
   "codemirror_mode": {
    "name": "ipython",
    "version": 2
   },
   "file_extension": ".py",
   "mimetype": "text/x-python",
   "name": "python",
   "nbconvert_exporter": "python",
   "pygments_lexer": "ipython2",
   "version": "2.7.6"
  }
 },
 "nbformat": 4,
 "nbformat_minor": 5
}
