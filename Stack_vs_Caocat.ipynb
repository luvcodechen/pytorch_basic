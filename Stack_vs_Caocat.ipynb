{
 "cells": [
  {
   "cell_type": "code",
   "execution_count": 1,
   "outputs": [],
   "source": [
    "import torch"
   ],
   "metadata": {
    "collapsed": false,
    "ExecuteTime": {
     "end_time": "2023-11-08T09:17:33.440811200Z",
     "start_time": "2023-11-08T09:17:32.794231500Z"
    }
   },
   "id": "d0b1d4be7c92a61f"
  },
  {
   "cell_type": "code",
   "execution_count": 2,
   "outputs": [],
   "source": [
    "t1 = torch.tensor([1, 1, 1])"
   ],
   "metadata": {
    "collapsed": false,
    "ExecuteTime": {
     "end_time": "2023-11-08T09:17:33.455948500Z",
     "start_time": "2023-11-08T09:17:33.442816700Z"
    }
   },
   "id": "7d2d36871d7fbbfa"
  },
  {
   "cell_type": "code",
   "execution_count": 3,
   "outputs": [
    {
     "data": {
      "text/plain": "tensor([[1, 1, 1]])"
     },
     "execution_count": 3,
     "metadata": {},
     "output_type": "execute_result"
    }
   ],
   "source": [
    "t1.unsqueeze(dim=0)"
   ],
   "metadata": {
    "collapsed": false,
    "ExecuteTime": {
     "end_time": "2023-11-08T09:17:33.484265200Z",
     "start_time": "2023-11-08T09:17:33.455948500Z"
    }
   },
   "id": "3b8cd0f54f65d557"
  },
  {
   "cell_type": "code",
   "execution_count": 4,
   "outputs": [
    {
     "data": {
      "text/plain": "tensor([[1],\n        [1],\n        [1]])"
     },
     "execution_count": 4,
     "metadata": {},
     "output_type": "execute_result"
    }
   ],
   "source": [
    "t1.unsqueeze(dim=1)"
   ],
   "metadata": {
    "collapsed": false,
    "ExecuteTime": {
     "end_time": "2023-11-08T09:17:33.485352900Z",
     "start_time": "2023-11-08T09:17:33.471866700Z"
    }
   },
   "id": "eb2abe8dc26ef69a"
  },
  {
   "cell_type": "code",
   "execution_count": 5,
   "outputs": [
    {
     "name": "stdout",
     "output_type": "stream",
     "text": [
      "torch.Size([3])\n",
      "torch.Size([1, 3])\n",
      "torch.Size([3, 1])\n"
     ]
    }
   ],
   "source": [
    "print(t1.shape)\n",
    "print(t1.unsqueeze(dim=0).shape)\n",
    "print(t1.unsqueeze(dim=1).shape)"
   ],
   "metadata": {
    "collapsed": false,
    "ExecuteTime": {
     "end_time": "2023-11-08T09:17:33.507672600Z",
     "start_time": "2023-11-08T09:17:33.488897100Z"
    }
   },
   "id": "2ffebb6c437ae3f3"
  },
  {
   "cell_type": "code",
   "execution_count": 6,
   "outputs": [],
   "source": [
    "t1 = torch.tensor([1, 1, 1])\n",
    "t2 = torch.tensor([2, 2, 2])\n",
    "t3 = torch.tensor([3, 3, 3])"
   ],
   "metadata": {
    "collapsed": false,
    "ExecuteTime": {
     "end_time": "2023-11-08T09:17:33.547171700Z",
     "start_time": "2023-11-08T09:17:33.502683800Z"
    }
   },
   "id": "85678eb756d56095"
  },
  {
   "cell_type": "markdown",
   "source": [
    "## cat是在原有的轴上追加"
   ],
   "metadata": {
    "collapsed": false
   },
   "id": "d2324ff4b8731aa4"
  },
  {
   "cell_type": "code",
   "execution_count": 7,
   "outputs": [
    {
     "data": {
      "text/plain": "tensor([1, 1, 1, 2, 2, 2, 3, 3, 3])"
     },
     "execution_count": 7,
     "metadata": {},
     "output_type": "execute_result"
    }
   ],
   "source": [
    "torch.cat(\n",
    "    (t1, t2, t3)\n",
    "    , dim=0\n",
    ")"
   ],
   "metadata": {
    "collapsed": false,
    "ExecuteTime": {
     "end_time": "2023-11-08T09:17:33.555243400Z",
     "start_time": "2023-11-08T09:17:33.519495800Z"
    }
   },
   "id": "e37fcaac1f788b8e"
  },
  {
   "cell_type": "markdown",
   "source": [
    "## stack是新建轴"
   ],
   "metadata": {
    "collapsed": false
   },
   "id": "f88dca4c37350a28"
  },
  {
   "cell_type": "code",
   "execution_count": 8,
   "outputs": [
    {
     "data": {
      "text/plain": "tensor([[1, 1, 1],\n        [2, 2, 2],\n        [3, 3, 3]])"
     },
     "execution_count": 8,
     "metadata": {},
     "output_type": "execute_result"
    }
   ],
   "source": [
    "torch.stack(\n",
    "    (t1, t2, t3)\n",
    "    , dim=0\n",
    ")"
   ],
   "metadata": {
    "collapsed": false,
    "ExecuteTime": {
     "end_time": "2023-11-08T09:17:33.555243400Z",
     "start_time": "2023-11-08T09:17:33.534510400Z"
    }
   },
   "id": "87756c7bcb59e1f8"
  },
  {
   "cell_type": "code",
   "execution_count": 9,
   "outputs": [
    {
     "data": {
      "text/plain": "tensor([[1, 1, 1],\n        [2, 2, 2],\n        [3, 3, 3]])"
     },
     "execution_count": 9,
     "metadata": {},
     "output_type": "execute_result"
    }
   ],
   "source": [
    "torch.cat(\n",
    "    (\n",
    "          t1.unsqueeze(0)\n",
    "        , t2.unsqueeze(0)\n",
    "        , t3.unsqueeze(0)\n",
    "    )\n",
    "    , dim=0\n",
    ")"
   ],
   "metadata": {
    "collapsed": false,
    "ExecuteTime": {
     "end_time": "2023-11-08T09:17:33.567338800Z",
     "start_time": "2023-11-08T09:17:33.550000300Z"
    }
   },
   "id": "31b369c10ba8a1fe"
  },
  {
   "cell_type": "code",
   "execution_count": 10,
   "outputs": [
    {
     "data": {
      "text/plain": "tensor([[1, 2, 3],\n        [1, 2, 3],\n        [1, 2, 3]])"
     },
     "execution_count": 10,
     "metadata": {},
     "output_type": "execute_result"
    }
   ],
   "source": [
    "torch.stack(\n",
    "    (t1, t2, t3)\n",
    "    , dim=1\n",
    ")"
   ],
   "metadata": {
    "collapsed": false,
    "ExecuteTime": {
     "end_time": "2023-11-08T09:17:33.608204800Z",
     "start_time": "2023-11-08T09:17:33.566834600Z"
    }
   },
   "id": "439ae5d3121aed15"
  },
  {
   "cell_type": "code",
   "execution_count": 10,
   "outputs": [],
   "source": [],
   "metadata": {
    "collapsed": false,
    "ExecuteTime": {
     "end_time": "2023-11-08T09:17:33.608204800Z",
     "start_time": "2023-11-08T09:17:33.580057400Z"
    }
   },
   "id": "200ece5e824603cb"
  },
  {
   "cell_type": "code",
   "execution_count": 11,
   "outputs": [
    {
     "data": {
      "text/plain": "tensor([[1, 2, 3],\n        [1, 2, 3],\n        [1, 2, 3]])"
     },
     "execution_count": 11,
     "metadata": {},
     "output_type": "execute_result"
    }
   ],
   "source": [
    "torch.cat(\n",
    "    (\n",
    "          t1.unsqueeze(1)\n",
    "        , t2.unsqueeze(1)\n",
    "        , t3.unsqueeze(1)\n",
    "    )\n",
    "    , dim=1\n",
    ")"
   ],
   "metadata": {
    "collapsed": false,
    "ExecuteTime": {
     "end_time": "2023-11-08T09:17:33.619595300Z",
     "start_time": "2023-11-08T09:17:33.597256600Z"
    }
   },
   "id": "8ab6077326aef16b"
  },
  {
   "cell_type": "code",
   "execution_count": 11,
   "outputs": [],
   "source": [],
   "metadata": {
    "collapsed": false,
    "ExecuteTime": {
     "end_time": "2023-11-08T09:17:33.628187900Z",
     "start_time": "2023-11-08T09:17:33.611766400Z"
    }
   },
   "id": "2ea2a2143b915c5d"
  }
 ],
 "metadata": {
  "kernelspec": {
   "name": "py3.8.13",
   "language": "python",
   "display_name": "py3.8.13"
  },
  "language_info": {
   "codemirror_mode": {
    "name": "ipython",
    "version": 2
   },
   "file_extension": ".py",
   "mimetype": "text/x-python",
   "name": "python",
   "nbconvert_exporter": "python",
   "pygments_lexer": "ipython2",
   "version": "2.7.6"
  }
 },
 "nbformat": 4,
 "nbformat_minor": 5
}
