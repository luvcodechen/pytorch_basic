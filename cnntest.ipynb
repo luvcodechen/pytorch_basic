{
 "cells": [
  {
   "cell_type": "code",
   "execution_count": 1,
   "id": "initial_id",
   "metadata": {
    "collapsed": true,
    "ExecuteTime": {
     "end_time": "2023-11-09T13:15:11.419156400Z",
     "start_time": "2023-11-09T13:15:10.705684700Z"
    }
   },
   "outputs": [],
   "source": [
    "import torch\n",
    "import torch.nn as nn\n",
    "import torch.nn.functional as F\n",
    "import torch.optim as optim\n",
    "import torchvision\n",
    "import torchvision.transforms as transforms\n",
    "from torch.utils import data\n",
    "from PIL import Image\n",
    "\n",
    "torch.set_printoptions(linewidth=120)  # Display options for output\n",
    "torch.set_grad_enabled(True)\n",
    "\n",
    "from torch.utils.tensorboard import SummaryWriter\n",
    "# from tensorboardX import SummaryWriter\n",
    "# import sys\n",
    "# print(sys.executable)\n"
   ]
  },
  {
   "cell_type": "code",
   "execution_count": 2,
   "outputs": [
    {
     "name": "stdout",
     "output_type": "stream",
     "text": [
      "1.5.1+cu101\n",
      "0.6.1+cu101\n",
      "True\n",
      "10.1\n",
      "1\n"
     ]
    }
   ],
   "source": [
    "print(torch.__version__)\n",
    "print(torchvision.__version__)\n",
    "print(torch.cuda.is_available())\n",
    "print(torch.version.cuda)\n",
    "print(torch.cuda.device_count())"
   ],
   "metadata": {
    "collapsed": false,
    "ExecuteTime": {
     "end_time": "2023-11-09T13:15:12.454111400Z",
     "start_time": "2023-11-09T13:15:12.422043200Z"
    }
   },
   "id": "d374f19634f1e987"
  },
  {
   "cell_type": "code",
   "execution_count": 3,
   "outputs": [],
   "source": [
    "def get_num_correct(preds, labels):\n",
    "    return preds.argmax(dim=1).eq(labels).sum().item()"
   ],
   "metadata": {
    "collapsed": false,
    "ExecuteTime": {
     "end_time": "2023-11-09T13:15:14.910622200Z",
     "start_time": "2023-11-09T13:15:14.894916300Z"
    }
   },
   "id": "d21d23afe526dc88"
  },
  {
   "cell_type": "code",
   "execution_count": 4,
   "outputs": [],
   "source": [
    "class Network(nn.Module):\n",
    "    def __init__(self):\n",
    "        super().__init__()\n",
    "        self.conv1 = nn.Conv2d(in_channels=1, out_channels=6, kernel_size=5)\n",
    "        self.conv2 = nn.Conv2d(in_channels=6, out_channels=12, kernel_size=5)\n",
    "\n",
    "        self.fc1 = nn.Linear(in_features=12 * 4 * 4, out_features=120)\n",
    "        self.fc2 = nn.Linear(in_features=120, out_features=60)\n",
    "        self.out = nn.Linear(in_features=60, out_features=10)\n",
    "        # self.layer = None\n",
    "\n",
    "    def forward(self, t):\n",
    "        # t = self.layer(t)\n",
    "        # implement the forward pass\n",
    "\n",
    "        # (1) input layer\n",
    "        t = t\n",
    "\n",
    "        # (2) hidden conv layer\n",
    "        t = self.conv1(t)\n",
    "        t = F.relu(t)\n",
    "        t = F.max_pool2d(t, kernel_size=2, stride=2)\n",
    "\n",
    "        # (3) hidden conv layer\n",
    "        t = self.conv2(t)\n",
    "        t = F.relu(t)\n",
    "        t = F.max_pool2d(t, kernel_size=2, stride=2)\n",
    "\n",
    "        # (4) hidden liner layer\n",
    "        t = t.reshape(-1, 12 * 4 * 4)\n",
    "        t = self.fc1(t)\n",
    "        t = F.relu(t)\n",
    "\n",
    "        # (5) hidden liner layer\n",
    "        t = self.fc2(t)\n",
    "        t = F.relu(t)\n",
    "\n",
    "        # (6) output layer\n",
    "        t = self.out(t)\n",
    "        # t = F.softmax(t, dim=1)\n",
    "\n",
    "        return t"
   ],
   "metadata": {
    "collapsed": false,
    "ExecuteTime": {
     "end_time": "2023-11-09T13:15:16.456516300Z",
     "start_time": "2023-11-09T13:15:16.456516300Z"
    }
   },
   "id": "f7d39e1cc568d50c"
  },
  {
   "cell_type": "code",
   "execution_count": 5,
   "outputs": [],
   "source": [
    "train_set = torchvision.datasets.FashionMNIST(root='./data/FashionMNIST', train=True, download=True, transform=transforms.Compose([transforms.ToTensor()]))"
   ],
   "metadata": {
    "collapsed": false,
    "ExecuteTime": {
     "end_time": "2023-11-09T13:15:19.938546600Z",
     "start_time": "2023-11-09T13:15:19.891484300Z"
    }
   },
   "id": "6176c65d0de1880"
  },
  {
   "cell_type": "code",
   "execution_count": 6,
   "outputs": [],
   "source": [
    "train_loader = torch.utils.data.DataLoader(train_set, batch_size=100, shuffle=True)"
   ],
   "metadata": {
    "collapsed": false,
    "ExecuteTime": {
     "end_time": "2023-11-09T13:00:55.101855100Z",
     "start_time": "2023-11-09T13:00:55.082669700Z"
    }
   },
   "id": "693493cc2d16a8b8"
  },
  {
   "cell_type": "code",
   "execution_count": 7,
   "outputs": [],
   "source": [
    "tb = SummaryWriter()\n",
    "\n",
    "network = Network()\n",
    "images, labels = next(iter(train_loader))\n",
    "grid = torchvision.utils.make_grid(images)\n",
    "\n",
    "tb.add_image('images', grid)\n",
    "tb.add_graph(network, images)\n",
    "tb.close()"
   ],
   "metadata": {
    "collapsed": false,
    "ExecuteTime": {
     "end_time": "2023-11-09T13:00:56.330754500Z",
     "start_time": "2023-11-09T13:00:56.202373Z"
    }
   },
   "id": "443eeebf68ca9a"
  },
  {
   "cell_type": "code",
   "execution_count": 6,
   "outputs": [],
   "source": [
    "from itertools import product"
   ],
   "metadata": {
    "collapsed": false,
    "ExecuteTime": {
     "end_time": "2023-11-09T13:15:27.691158400Z",
     "start_time": "2023-11-09T13:15:27.675140900Z"
    }
   },
   "id": "238a166eff2c1502"
  },
  {
   "cell_type": "code",
   "execution_count": 8,
   "outputs": [],
   "source": [
    "parameters = dict(\n",
    "    lr=[.01, .001]\n",
    "    , batch_size=[10, 100, 1000]\n",
    "    , shuffle=[True, False]\n",
    ")"
   ],
   "metadata": {
    "collapsed": false,
    "ExecuteTime": {
     "end_time": "2023-11-09T13:15:36.472860400Z",
     "start_time": "2023-11-09T13:15:36.469851100Z"
    }
   },
   "id": "63cb476faac818f6"
  },
  {
   "cell_type": "code",
   "execution_count": 9,
   "outputs": [
    {
     "data": {
      "text/plain": "[[0.01, 0.001], [10, 100, 1000], [True, False]]"
     },
     "execution_count": 9,
     "metadata": {},
     "output_type": "execute_result"
    }
   ],
   "source": [
    "para_values = [v for v in parameters.values()]\n",
    "para_values"
   ],
   "metadata": {
    "collapsed": false,
    "ExecuteTime": {
     "end_time": "2023-11-09T13:15:37.560195200Z",
     "start_time": "2023-11-09T13:15:37.528465800Z"
    }
   },
   "id": "818d09e24ca10156"
  },
  {
   "cell_type": "code",
   "execution_count": 11,
   "outputs": [
    {
     "name": "stdout",
     "output_type": "stream",
     "text": [
      "0.01 10 True\n",
      "0.01 10 False\n",
      "0.01 100 True\n",
      "0.01 100 False\n",
      "0.01 1000 True\n",
      "0.01 1000 False\n",
      "0.001 10 True\n",
      "0.001 10 False\n",
      "0.001 100 True\n",
      "0.001 100 False\n",
      "0.001 1000 True\n",
      "0.001 1000 False\n"
     ]
    }
   ],
   "source": [
    "for lr, batch_size, shuffle in product(*para_values):\n",
    "    print(lr, batch_size, shuffle)"
   ],
   "metadata": {
    "collapsed": false,
    "ExecuteTime": {
     "end_time": "2023-11-09T13:01:04.159325800Z",
     "start_time": "2023-11-09T13:01:04.149297700Z"
    }
   },
   "id": "34f6d41e5763eef5"
  },
  {
   "cell_type": "code",
   "execution_count": 12,
   "outputs": [],
   "source": [
    "for lr, batch_size, shuffle in product(*para_values):\n",
    "    comment = f'batch_zize={batch_size} lr={lr} shuffle={shuffle}'\n",
    "\n",
    "    #  Training progress given the set of parameters"
   ],
   "metadata": {
    "collapsed": false,
    "ExecuteTime": {
     "end_time": "2023-11-09T13:01:05.625318700Z",
     "start_time": "2023-11-09T13:01:05.601525100Z"
    }
   },
   "id": "3a1d8230a77bc96e"
  },
  {
   "cell_type": "code",
   "execution_count": 13,
   "outputs": [],
   "source": [
    "network = Network()"
   ],
   "metadata": {
    "collapsed": false,
    "ExecuteTime": {
     "end_time": "2023-11-09T13:01:09.351608200Z",
     "start_time": "2023-11-09T13:01:07.543261200Z"
    }
   },
   "id": "44cd6fc5627c1225"
  },
  {
   "cell_type": "code",
   "execution_count": null,
   "outputs": [
    {
     "name": "stdout",
     "output_type": "stream",
     "text": [
      "epoch:  0 total_correct: 46214 loss 37052.890387880616\n",
      "epoch:  1 total_correct: 48392 loss 31638.234238872537\n",
      "epoch:  2 total_correct: 48874 loss 30788.25586864259\n",
      "epoch:  3 total_correct: 48265 loss 32969.816212486476\n",
      "epoch:  4 total_correct: 48509 loss 31854.83602920547\n",
      "epoch:  5 total_correct: 48894 loss 31208.60786990961\n",
      "epoch:  6 total_correct: 49040 loss 30533.553142123856\n",
      "epoch:  7 total_correct: 48983 loss 31055.837457957387\n",
      "epoch:  8 total_correct: 49071 loss 30932.74570671376\n",
      "epoch:  9 total_correct: 49001 loss 30960.79490360804\n",
      "epoch:  0 total_correct: 46549 loss 36736.30680216942\n",
      "epoch:  1 total_correct: 48975 loss 30994.755089245737\n",
      "epoch:  2 total_correct: 48973 loss 30882.59115791414\n",
      "epoch:  3 total_correct: 49415 loss 30047.73499167408\n",
      "epoch:  4 total_correct: 49011 loss 31396.26949705649\n",
      "epoch:  5 total_correct: 48229 loss 33073.97709154524\n",
      "epoch:  6 total_correct: 48427 loss 32384.98503467068\n",
      "epoch:  7 total_correct: 48735 loss 31267.208658065647\n",
      "epoch:  8 total_correct: 48860 loss 31554.121162316296\n"
     ]
    }
   ],
   "source": [
    "\n",
    "# batch_size = 100\n",
    "# lr = 0.01\n",
    "# batch_size_list = [100, 1000, 10000]\n",
    "# lt_list = [.01, .001, .0001, .00001]\n",
    "for lr, batch_size, shuffle in product(*para_values):\n",
    "    comment = f'batch_zize={batch_size} lr={lr} shuffle={shuffle}'\n",
    "    network = Network()\n",
    "    train_loader = torch.utils.data.DataLoader(train_set, batch_size=batch_size, shuffle=True)\n",
    "    optimizer = optim.Adam(network.parameters(), lr=lr)\n",
    "\n",
    "    images, labels = next(iter(train_loader))\n",
    "    grid = torchvision.utils.make_grid(images)\n",
    "\n",
    "    # comment = f'batch_zize={batch_size} lr={lr}'\n",
    "    tb = SummaryWriter(comment=comment)\n",
    "    tb.add_image('images', grid)\n",
    "    tb.add_graph(network, images)\n",
    "\n",
    "    for epoch in range(10):\n",
    "        total_loss = 0\n",
    "        total_correct = 0\n",
    "\n",
    "        for batch in train_loader:  # get batch\n",
    "            images, labels = batch\n",
    "            preds = network(images)  #  pass batch\n",
    "            loss = F.cross_entropy(preds, labels)  # calculate loss\n",
    "\n",
    "            optimizer.zero_grad()\n",
    "            loss.backward()  # calculate gradients\n",
    "            optimizer.step()  # update weights\n",
    "\n",
    "            total_loss += loss.item() * batch_size\n",
    "            total_correct += get_num_correct(preds, labels)\n",
    "\n",
    "        tb.add_scalar('Loss', total_loss, epoch)\n",
    "        tb.add_scalar('Number_correct', total_correct, epoch)\n",
    "        tb.add_scalar('Accuracy', total_correct / len(train_set), epoch)\n",
    "\n",
    "        tb.add_histogram('conv1.bias', network.conv1.bias, epoch)\n",
    "        tb.add_histogram('conv1.weight', network.conv1.weight, epoch)\n",
    "        tb.add_histogram('conv1.weight.grad', network.conv1.weight.grad, epoch)\n",
    "\n",
    "        print(\"epoch: \", epoch, \"total_correct:\", total_correct, \"loss\", total_loss)\n",
    "\n",
    "    tb.close()\n"
   ],
   "metadata": {
    "collapsed": false,
    "is_executing": true,
    "ExecuteTime": {
     "start_time": "2023-11-09T13:16:02.072418600Z"
    }
   },
   "id": "b071665283b65ea5"
  },
  {
   "cell_type": "code",
   "execution_count": null,
   "outputs": [],
   "source": [],
   "metadata": {
    "collapsed": false,
    "ExecuteTime": {
     "start_time": "2023-11-09T12:46:08.026479400Z"
    }
   },
   "id": "2cb2e63375bcf44e"
  }
 ],
 "metadata": {
  "kernelspec": {
   "name": "py3.8.13",
   "language": "python",
   "display_name": "py3.8.13"
  },
  "language_info": {
   "codemirror_mode": {
    "name": "ipython",
    "version": 2
   },
   "file_extension": ".py",
   "mimetype": "text/x-python",
   "name": "python",
   "nbconvert_exporter": "python",
   "pygments_lexer": "ipython2",
   "version": "2.7.6"
  }
 },
 "nbformat": 4,
 "nbformat_minor": 5
}
