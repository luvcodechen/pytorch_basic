{
 "cells": [
  {
   "cell_type": "code",
   "execution_count": 1,
   "id": "initial_id",
   "metadata": {
    "collapsed": true,
    "ExecuteTime": {
     "end_time": "2023-11-12T02:01:46.101683900Z",
     "start_time": "2023-11-12T02:01:45.043104600Z"
    }
   },
   "outputs": [],
   "source": [
    "import json\n",
    "import time\n",
    "\n",
    "import pandas as pd\n",
    "import torch\n",
    "import torch.nn as nn\n",
    "import torch.nn.functional as F\n",
    "import torch.optim as optim\n",
    "import torchvision\n",
    "import torchvision.transforms as transforms\n",
    "from IPython.core.display_functions import clear_output\n",
    "from torch.utils import data\n",
    "from collections import OrderedDict\n",
    "from collections import namedtuple\n",
    "from itertools import product\n",
    "from PIL import Image\n",
    "from torch.utils.data import DataLoader\n",
    "\n",
    "torch.set_printoptions(linewidth=120)  # Display options for output\n",
    "torch.set_grad_enabled(True)\n",
    "\n",
    "from torch.utils.tensorboard import SummaryWriter\n",
    "# from tensorboardX import SummaryWriter\n",
    "# import sys\n",
    "# print(sys.executable)\n"
   ]
  },
  {
   "cell_type": "code",
   "execution_count": 2,
   "outputs": [
    {
     "name": "stdout",
     "output_type": "stream",
     "text": [
      "1.5.1+cu101\n",
      "0.6.1+cu101\n",
      "True\n",
      "10.1\n",
      "1\n"
     ]
    }
   ],
   "source": [
    "print(torch.__version__)\n",
    "print(torchvision.__version__)\n",
    "print(torch.cuda.is_available())\n",
    "print(torch.version.cuda)\n",
    "print(torch.cuda.device_count())"
   ],
   "metadata": {
    "collapsed": false,
    "ExecuteTime": {
     "end_time": "2023-11-12T02:01:46.153432Z",
     "start_time": "2023-11-12T02:01:46.102737900Z"
    }
   },
   "id": "d374f19634f1e987"
  },
  {
   "cell_type": "code",
   "execution_count": 3,
   "outputs": [],
   "source": [
    "def get_num_correct(preds, labels):\n",
    "    return preds.argmax(dim=1).eq(labels).sum().item()"
   ],
   "metadata": {
    "collapsed": false,
    "ExecuteTime": {
     "end_time": "2023-11-12T02:01:46.174487300Z",
     "start_time": "2023-11-12T02:01:46.147328900Z"
    }
   },
   "id": "d21d23afe526dc88"
  },
  {
   "cell_type": "code",
   "execution_count": 4,
   "outputs": [],
   "source": [
    "class Network(nn.Module):\n",
    "    def __init__(self):\n",
    "        super().__init__()\n",
    "        self.conv1 = nn.Conv2d(in_channels=1, out_channels=6, kernel_size=5)\n",
    "        self.conv2 = nn.Conv2d(in_channels=6, out_channels=12, kernel_size=5)\n",
    "\n",
    "        self.fc1 = nn.Linear(in_features=12 * 4 * 4, out_features=120)\n",
    "        self.fc2 = nn.Linear(in_features=120, out_features=60)\n",
    "        self.out = nn.Linear(in_features=60, out_features=10)\n",
    "        # self.layer = None\n",
    "\n",
    "    def forward(self, t):\n",
    "        # t = self.layer(t)\n",
    "        # implement the forward pass\n",
    "\n",
    "        # (1) input layer\n",
    "        t = t\n",
    "\n",
    "        # (2) hidden conv layer\n",
    "        t = self.conv1(t)\n",
    "        t = F.relu(t)\n",
    "        t = F.max_pool2d(t, kernel_size=2, stride=2)\n",
    "\n",
    "        # (3) hidden conv layer\n",
    "        t = self.conv2(t)\n",
    "        t = F.relu(t)\n",
    "        t = F.max_pool2d(t, kernel_size=2, stride=2)\n",
    "\n",
    "        # (4) hidden liner layer\n",
    "        t = t.reshape(-1, 12 * 4 * 4)\n",
    "        t = self.fc1(t)\n",
    "        t = F.relu(t)\n",
    "\n",
    "        # (5) hidden liner layer\n",
    "        t = self.fc2(t)\n",
    "        t = F.relu(t)\n",
    "\n",
    "        # (6) output layer\n",
    "        t = self.out(t)\n",
    "        # t = F.softmax(t, dim=1)\n",
    "\n",
    "        return t"
   ],
   "metadata": {
    "collapsed": false,
    "ExecuteTime": {
     "end_time": "2023-11-12T02:01:46.238338Z",
     "start_time": "2023-11-12T02:01:46.167359200Z"
    }
   },
   "id": "f7d39e1cc568d50c"
  },
  {
   "cell_type": "code",
   "execution_count": 5,
   "outputs": [],
   "source": [
    "train_set = torchvision.datasets.FashionMNIST(root='./data/FashionMNIST', train=True, download=True, transform=transforms.Compose([transforms.ToTensor()]))"
   ],
   "metadata": {
    "collapsed": false,
    "ExecuteTime": {
     "end_time": "2023-11-12T02:01:46.266429100Z",
     "start_time": "2023-11-12T02:01:46.180660600Z"
    }
   },
   "id": "6176c65d0de1880"
  },
  {
   "cell_type": "code",
   "execution_count": 6,
   "outputs": [],
   "source": [
    "train_loader = torch.utils.data.DataLoader(train_set, batch_size=100, shuffle=True)"
   ],
   "metadata": {
    "collapsed": false,
    "ExecuteTime": {
     "end_time": "2023-11-12T02:01:46.267488300Z",
     "start_time": "2023-11-12T02:01:46.224728600Z"
    }
   },
   "id": "693493cc2d16a8b8"
  },
  {
   "cell_type": "code",
   "execution_count": 7,
   "outputs": [],
   "source": [
    "tb = SummaryWriter()\n",
    "\n",
    "network = Network()\n",
    "images, labels = next(iter(train_loader))\n",
    "grid = torchvision.utils.make_grid(images)\n",
    "\n",
    "tb.add_image('images', grid)\n",
    "tb.add_graph(network, images)\n",
    "tb.close()"
   ],
   "metadata": {
    "collapsed": false,
    "ExecuteTime": {
     "end_time": "2023-11-12T02:01:46.366261Z",
     "start_time": "2023-11-12T02:01:46.242017Z"
    }
   },
   "id": "443eeebf68ca9a"
  },
  {
   "cell_type": "code",
   "execution_count": 8,
   "outputs": [],
   "source": [
    "from itertools import product"
   ],
   "metadata": {
    "collapsed": false,
    "ExecuteTime": {
     "end_time": "2023-11-12T02:01:46.386582900Z",
     "start_time": "2023-11-12T02:01:46.368562500Z"
    }
   },
   "id": "238a166eff2c1502"
  },
  {
   "cell_type": "code",
   "execution_count": 9,
   "outputs": [],
   "source": [
    "parameters = dict(\n",
    "    lr=[.01, .001]\n",
    "    , batch_size=[10, 100, 1000]\n",
    "    , shuffle=[True, False]\n",
    ")"
   ],
   "metadata": {
    "collapsed": false,
    "ExecuteTime": {
     "end_time": "2023-11-12T02:01:46.418262100Z",
     "start_time": "2023-11-12T02:01:46.382630800Z"
    }
   },
   "id": "63cb476faac818f6"
  },
  {
   "cell_type": "code",
   "execution_count": 10,
   "outputs": [
    {
     "data": {
      "text/plain": "[[0.01, 0.001], [10, 100, 1000], [True, False]]"
     },
     "execution_count": 10,
     "metadata": {},
     "output_type": "execute_result"
    }
   ],
   "source": [
    "para_values = [v for v in parameters.values()]\n",
    "para_values"
   ],
   "metadata": {
    "collapsed": false,
    "ExecuteTime": {
     "end_time": "2023-11-12T02:01:46.422732100Z",
     "start_time": "2023-11-12T02:01:46.399894900Z"
    }
   },
   "id": "818d09e24ca10156"
  },
  {
   "cell_type": "code",
   "execution_count": 11,
   "outputs": [
    {
     "name": "stdout",
     "output_type": "stream",
     "text": [
      "0.01 10 True\n",
      "0.01 10 False\n",
      "0.01 100 True\n",
      "0.01 100 False\n",
      "0.01 1000 True\n",
      "0.01 1000 False\n",
      "0.001 10 True\n",
      "0.001 10 False\n",
      "0.001 100 True\n",
      "0.001 100 False\n",
      "0.001 1000 True\n",
      "0.001 1000 False\n"
     ]
    }
   ],
   "source": [
    "for lr, batch_size, shuffle in product(*para_values):\n",
    "    print(lr, batch_size, shuffle)"
   ],
   "metadata": {
    "collapsed": false,
    "ExecuteTime": {
     "end_time": "2023-11-12T02:01:46.446222100Z",
     "start_time": "2023-11-12T02:01:46.415245500Z"
    }
   },
   "id": "34f6d41e5763eef5"
  },
  {
   "cell_type": "code",
   "execution_count": 12,
   "outputs": [],
   "source": [
    "for lr, batch_size, shuffle in product(*para_values):\n",
    "    comment = f'batch_zize={batch_size} lr={lr} shuffle={shuffle}'\n",
    "\n",
    "    #  Training progress given the set of parameters"
   ],
   "metadata": {
    "collapsed": false,
    "ExecuteTime": {
     "end_time": "2023-11-12T02:01:46.520896100Z",
     "start_time": "2023-11-12T02:01:46.431877500Z"
    }
   },
   "id": "3a1d8230a77bc96e"
  },
  {
   "cell_type": "code",
   "execution_count": 13,
   "outputs": [],
   "source": [
    "network = Network()"
   ],
   "metadata": {
    "collapsed": false,
    "ExecuteTime": {
     "end_time": "2023-11-12T02:01:46.547108500Z",
     "start_time": "2023-11-12T02:01:46.446222100Z"
    }
   },
   "id": "44cd6fc5627c1225"
  },
  {
   "cell_type": "code",
   "execution_count": 14,
   "outputs": [],
   "source": [
    "\n",
    "# batch_size = 100\n",
    "# lr = 0.01\n",
    "# batch_size_list = [100, 1000, 10000]\n",
    "# lt_list = [.01, .001, .0001, .00001]\n",
    "# for lr, batch_size, shuffle in product(*para_values):\n",
    "#     comment = f'batch_zize={batch_size} lr={lr} shuffle={shuffle}'\n",
    "#     network = Network()\n",
    "#     train_loader = torch.utils.data.DataLoader(train_set, batch_size=batch_size, shuffle=True)\n",
    "#     optimizer = optim.Adam(network.parameters(), lr=lr)\n",
    "# \n",
    "#     images, labels = next(iter(train_loader))\n",
    "#     grid = torchvision.utils.make_grid(images)\n",
    "# \n",
    "#     # comment = f'batch_zize={batch_size} lr={lr}'\n",
    "#     tb = SummaryWriter(comment=comment)\n",
    "#     tb.add_image('images', grid)\n",
    "#     tb.add_graph(network, images)\n",
    "# \n",
    "#     for epoch in range(10):\n",
    "#         total_loss = 0\n",
    "#         total_correct = 0\n",
    "# \n",
    "#         for batch in train_loader:  # get batch\n",
    "#             images, labels = batch\n",
    "#             preds = network(images)  #  pass batch\n",
    "#             loss = F.cross_entropy(preds, labels)  # calculate loss\n",
    "# \n",
    "#             optimizer.zero_grad()\n",
    "#             loss.backward()  # calculate gradients\n",
    "#             optimizer.step()  # update weights\n",
    "# \n",
    "#             total_loss += loss.item() * batch_size\n",
    "#             total_correct += get_num_correct(preds, labels)\n",
    "# \n",
    "#         tb.add_scalar('Loss', total_loss, epoch)\n",
    "#         tb.add_scalar('Number_correct', total_correct, epoch)\n",
    "#         tb.add_scalar('Accuracy', total_correct / len(train_set), epoch)\n",
    "# \n",
    "#         tb.add_histogram('conv1.bias', network.conv1.bias, epoch)\n",
    "#         tb.add_histogram('conv1.weight', network.conv1.weight, epoch)\n",
    "#         tb.add_histogram('conv1.weight.grad', network.conv1.weight.grad, epoch)\n",
    "# \n",
    "#         print(\"epoch: \", epoch, \"total_correct:\", total_correct, \"loss\", total_loss)\n",
    "# \n",
    "#     tb.close()\n"
   ],
   "metadata": {
    "collapsed": false,
    "ExecuteTime": {
     "end_time": "2023-11-12T02:01:46.548242800Z",
     "start_time": "2023-11-12T02:01:46.467807Z"
    }
   },
   "id": "b071665283b65ea5"
  },
  {
   "cell_type": "code",
   "execution_count": 15,
   "outputs": [],
   "source": [
    "class RunBuilder:\n",
    "    @staticmethod\n",
    "    def get_runs(params):\n",
    "        Run = namedtuple('Run', params.keys())\n",
    "\n",
    "        runs = []\n",
    "        for v in product(*params.values()):\n",
    "            runs.append(Run(*v))\n",
    "\n",
    "        return runs"
   ],
   "metadata": {
    "collapsed": false,
    "ExecuteTime": {
     "end_time": "2023-11-12T02:01:46.548242800Z",
     "start_time": "2023-11-12T02:01:46.477165800Z"
    }
   },
   "id": "f086cc9f0e96460e"
  },
  {
   "cell_type": "code",
   "execution_count": 16,
   "outputs": [],
   "source": [
    "class RunManager:\n",
    "    def __init__(self):\n",
    "        self.epoch_count = 0\n",
    "        self.epoch_loss = 0\n",
    "        self.epoch_num_correct = 0\n",
    "        self.epoch_start_time = 0\n",
    "\n",
    "        self.run_params = 0\n",
    "        self.run_count = 0\n",
    "        self.run_data = []\n",
    "        self.run_start_time = None\n",
    "\n",
    "        self.network = None\n",
    "        self.loader = None\n",
    "        self.tb = None\n",
    "\n",
    "    def begin_run(self, run, network, loader):\n",
    "        self.run_start_time = time.time()\n",
    "        self.run_params = run\n",
    "        self.run_count += 1\n",
    "\n",
    "        self.network = network\n",
    "        self.loader = loader\n",
    "        self.tb = SummaryWriter(comment=f'{run}')\n",
    "\n",
    "        images, labels = next(iter(self.loader))\n",
    "        grid = torchvision.utils.make_grid(images)\n",
    "\n",
    "        self.tb.add_image('images', grid)\n",
    "        self.tb.add_graph(self.network, images)\n",
    "\n",
    "    def end_run(self):\n",
    "        self.tb.close()\n",
    "        self.epoch_count = 0\n",
    "\n",
    "    def begin_epoch(self):\n",
    "        self.epoch_start_time = time.time()\n",
    "\n",
    "        self.epoch_count += 1\n",
    "        self.epoch_loss = 0\n",
    "        self.epoch_num_correct = 0\n",
    "\n",
    "    def end_epoch(self):\n",
    "        epoch_duration = time.time() - self.epoch_start_time\n",
    "        run_duration = time.time() - self.run_start_time\n",
    "\n",
    "        loss = self.epoch_loss / len(self.loader.dataset)\n",
    "        accuracy = self.epoch_num_correct / len(self.loader.dataset)\n",
    "\n",
    "        self.tb.add_scalar('Loss', loss, self.epoch_count)\n",
    "        self.tb.add_scalar('Accuracy', accuracy, self.epoch_count)\n",
    "\n",
    "        for name, param in self.network.named_parameters():\n",
    "            self.tb.add_histogram(name, param, self.epoch_count)\n",
    "            self.tb.add_histogram(f'{name}.grad', param.grad, self.epoch_count)\n",
    "\n",
    "        results = OrderedDict()\n",
    "        results[\"run\"] = self.run_count\n",
    "        results[\"epoch\"] = self.epoch_count\n",
    "        results[\"loss\"] = loss\n",
    "        results[\"accuracy\"] = accuracy\n",
    "        results[\"epoch duration\"] = epoch_duration\n",
    "        results[\"run duration\"] = run_duration\n",
    "\n",
    "        for k, v, in self.run_params._asdict().items(): results[k] = v\n",
    "        self.run_data.append(results)\n",
    "        df = pd.DataFrame.from_dict(self.run_data, orient='columns')\n",
    "\n",
    "        clear_output(wait=True)\n",
    "        display(df)\n",
    "\n",
    "    def track_loss(self, loss):\n",
    "        self.epoch_loss += loss.item() * self.loader.batch_size\n",
    "\n",
    "    def track_num_correct(self, preds, labels):\n",
    "        self.epoch_num_correct += self._get_num_correct(preds, labels)\n",
    "\n",
    "    @torch.no_grad()\n",
    "    def _get_num_correct(self, preds, labels):\n",
    "        return preds.argmax(dim=1).eq(labels).sum().item()\n",
    "\n",
    "    def save(self, filename):\n",
    "        pd.DataFrame.from_dict(\n",
    "            self.run_data\n",
    "            , orient='columns'\n",
    "        ).to_csv(f'{filename}.csv')\n",
    "\n",
    "        with open(f'{filename}.json', 'w', encoding='utf-8') as f:\n",
    "            json.dump(self.run_data, f, ensure_ascii=False, indent=4)"
   ],
   "metadata": {
    "collapsed": false,
    "ExecuteTime": {
     "end_time": "2023-11-12T02:01:46.550293800Z",
     "start_time": "2023-11-12T02:01:46.492823400Z"
    }
   },
   "id": "2cb2e63375bcf44e"
  },
  {
   "cell_type": "code",
   "execution_count": 17,
   "outputs": [
    {
     "data": {
      "text/plain": "    run  epoch      loss  accuracy  epoch duration  run duration    lr  \\\n0     1      1  0.526139  0.803900       11.224319     11.322321  0.01   \n1     2      1  0.563833  0.789667        8.349673      9.733183  0.01   \n2     3      1  0.561812  0.786983        7.539605      8.906035  0.01   \n3     4      1  0.561955  0.788817        7.824914      9.203557  0.01   \n4     5      1  0.575652  0.785967        7.565039      9.374189  0.01   \n5     6      1  0.953393  0.646583        7.218504      7.758574  0.01   \n6     7      1  1.024711  0.598767        5.394361      6.994442  0.01   \n7     8      1  1.039252  0.594833        4.189223      5.800005  0.01   \n8     9      1  0.936998  0.633567        4.387878      6.061383  0.01   \n9    10      1  0.917071  0.652400        4.896918      6.898695  0.01   \n10   11      1  2.194035  0.211200        5.954622     10.686214  0.01   \n11   12      1  2.082929  0.271133        5.361808     11.396866  0.01   \n12   13      1  2.139249  0.206750        4.246407     10.326362  0.01   \n13   14      1  2.135947  0.226167        4.156045     10.301749  0.01   \n14   15      1  2.113798  0.211967        4.575884     10.653384  0.01   \n\n    batch_size  num_workers  \n0          100            0  \n1          100            1  \n2          100            2  \n3          100            4  \n4          100            8  \n5         1000            0  \n6         1000            1  \n7         1000            2  \n8         1000            4  \n9         1000            8  \n10       10000            0  \n11       10000            1  \n12       10000            2  \n13       10000            4  \n14       10000            8  ",
      "text/html": "<div>\n<style scoped>\n    .dataframe tbody tr th:only-of-type {\n        vertical-align: middle;\n    }\n\n    .dataframe tbody tr th {\n        vertical-align: top;\n    }\n\n    .dataframe thead th {\n        text-align: right;\n    }\n</style>\n<table border=\"1\" class=\"dataframe\">\n  <thead>\n    <tr style=\"text-align: right;\">\n      <th></th>\n      <th>run</th>\n      <th>epoch</th>\n      <th>loss</th>\n      <th>accuracy</th>\n      <th>epoch duration</th>\n      <th>run duration</th>\n      <th>lr</th>\n      <th>batch_size</th>\n      <th>num_workers</th>\n    </tr>\n  </thead>\n  <tbody>\n    <tr>\n      <th>0</th>\n      <td>1</td>\n      <td>1</td>\n      <td>0.526139</td>\n      <td>0.803900</td>\n      <td>11.224319</td>\n      <td>11.322321</td>\n      <td>0.01</td>\n      <td>100</td>\n      <td>0</td>\n    </tr>\n    <tr>\n      <th>1</th>\n      <td>2</td>\n      <td>1</td>\n      <td>0.563833</td>\n      <td>0.789667</td>\n      <td>8.349673</td>\n      <td>9.733183</td>\n      <td>0.01</td>\n      <td>100</td>\n      <td>1</td>\n    </tr>\n    <tr>\n      <th>2</th>\n      <td>3</td>\n      <td>1</td>\n      <td>0.561812</td>\n      <td>0.786983</td>\n      <td>7.539605</td>\n      <td>8.906035</td>\n      <td>0.01</td>\n      <td>100</td>\n      <td>2</td>\n    </tr>\n    <tr>\n      <th>3</th>\n      <td>4</td>\n      <td>1</td>\n      <td>0.561955</td>\n      <td>0.788817</td>\n      <td>7.824914</td>\n      <td>9.203557</td>\n      <td>0.01</td>\n      <td>100</td>\n      <td>4</td>\n    </tr>\n    <tr>\n      <th>4</th>\n      <td>5</td>\n      <td>1</td>\n      <td>0.575652</td>\n      <td>0.785967</td>\n      <td>7.565039</td>\n      <td>9.374189</td>\n      <td>0.01</td>\n      <td>100</td>\n      <td>8</td>\n    </tr>\n    <tr>\n      <th>5</th>\n      <td>6</td>\n      <td>1</td>\n      <td>0.953393</td>\n      <td>0.646583</td>\n      <td>7.218504</td>\n      <td>7.758574</td>\n      <td>0.01</td>\n      <td>1000</td>\n      <td>0</td>\n    </tr>\n    <tr>\n      <th>6</th>\n      <td>7</td>\n      <td>1</td>\n      <td>1.024711</td>\n      <td>0.598767</td>\n      <td>5.394361</td>\n      <td>6.994442</td>\n      <td>0.01</td>\n      <td>1000</td>\n      <td>1</td>\n    </tr>\n    <tr>\n      <th>7</th>\n      <td>8</td>\n      <td>1</td>\n      <td>1.039252</td>\n      <td>0.594833</td>\n      <td>4.189223</td>\n      <td>5.800005</td>\n      <td>0.01</td>\n      <td>1000</td>\n      <td>2</td>\n    </tr>\n    <tr>\n      <th>8</th>\n      <td>9</td>\n      <td>1</td>\n      <td>0.936998</td>\n      <td>0.633567</td>\n      <td>4.387878</td>\n      <td>6.061383</td>\n      <td>0.01</td>\n      <td>1000</td>\n      <td>4</td>\n    </tr>\n    <tr>\n      <th>9</th>\n      <td>10</td>\n      <td>1</td>\n      <td>0.917071</td>\n      <td>0.652400</td>\n      <td>4.896918</td>\n      <td>6.898695</td>\n      <td>0.01</td>\n      <td>1000</td>\n      <td>8</td>\n    </tr>\n    <tr>\n      <th>10</th>\n      <td>11</td>\n      <td>1</td>\n      <td>2.194035</td>\n      <td>0.211200</td>\n      <td>5.954622</td>\n      <td>10.686214</td>\n      <td>0.01</td>\n      <td>10000</td>\n      <td>0</td>\n    </tr>\n    <tr>\n      <th>11</th>\n      <td>12</td>\n      <td>1</td>\n      <td>2.082929</td>\n      <td>0.271133</td>\n      <td>5.361808</td>\n      <td>11.396866</td>\n      <td>0.01</td>\n      <td>10000</td>\n      <td>1</td>\n    </tr>\n    <tr>\n      <th>12</th>\n      <td>13</td>\n      <td>1</td>\n      <td>2.139249</td>\n      <td>0.206750</td>\n      <td>4.246407</td>\n      <td>10.326362</td>\n      <td>0.01</td>\n      <td>10000</td>\n      <td>2</td>\n    </tr>\n    <tr>\n      <th>13</th>\n      <td>14</td>\n      <td>1</td>\n      <td>2.135947</td>\n      <td>0.226167</td>\n      <td>4.156045</td>\n      <td>10.301749</td>\n      <td>0.01</td>\n      <td>10000</td>\n      <td>4</td>\n    </tr>\n    <tr>\n      <th>14</th>\n      <td>15</td>\n      <td>1</td>\n      <td>2.113798</td>\n      <td>0.211967</td>\n      <td>4.575884</td>\n      <td>10.653384</td>\n      <td>0.01</td>\n      <td>10000</td>\n      <td>8</td>\n    </tr>\n  </tbody>\n</table>\n</div>"
     },
     "metadata": {},
     "output_type": "display_data"
    }
   ],
   "source": [
    "params = OrderedDict(\n",
    "    lr=[.01]\n",
    "    , batch_size=[100, 1000, 10000]\n",
    "    , num_workers=[0, 1, 2, 4, 8]\n",
    "    # , shuffle=[True, False]\n",
    ")\n",
    "\n",
    "m = RunManager()\n",
    "for run in RunBuilder.get_runs(params):\n",
    "    network = Network()\n",
    "    loader = DataLoader(train_set, batch_size=run.batch_size, num_workers=run.num_workers)\n",
    "    optimizer = optim.Adam(network.parameters(), lr=run.lr)\n",
    "\n",
    "    m.begin_run(run, network, loader)\n",
    "    for epoch in range(1):\n",
    "        m.begin_epoch()\n",
    "        for batch in loader:\n",
    "            images = batch[0]\n",
    "            labels = batch[1]\n",
    "            preds = network(images)  # pass batch\n",
    "            loss = F.cross_entropy(preds, labels)  # calculate loss\n",
    "            optimizer.zero_grad()  # zero gradients\n",
    "            loss.backward()  # calculate gradients\n",
    "            optimizer.step()  # update weights\n",
    "\n",
    "            m.track_loss(loss)\n",
    "            m.track_num_correct(preds, labels)\n",
    "        m.end_epoch()\n",
    "    m.end_run()\n",
    "m.save('results')"
   ],
   "metadata": {
    "collapsed": false
   },
   "id": "242bc63eaa13ebe2"
  },
  {
   "cell_type": "markdown",
   "source": [
    "# Pytorch and the GPU : CUDA\n",
    "## Moving to GPU "
   ],
   "metadata": {
    "collapsed": false
   },
   "id": "26cab138f0bf09bd"
  },
  {
   "cell_type": "code",
   "execution_count": 18,
   "outputs": [],
   "source": [
    "t = torch.ones(1, 1, 28, 28)\n",
    "network = Network()"
   ],
   "metadata": {
    "collapsed": false,
    "ExecuteTime": {
     "end_time": "2023-11-12T02:04:03.280276800Z",
     "start_time": "2023-11-12T02:04:03.246202Z"
    }
   },
   "id": "e3ef8dcd928f8033"
  },
  {
   "cell_type": "code",
   "execution_count": 19,
   "outputs": [],
   "source": [
    "t = t.cuda()\n",
    "network = network.cuda()"
   ],
   "metadata": {
    "collapsed": false,
    "ExecuteTime": {
     "end_time": "2023-11-12T02:04:48.628025300Z",
     "start_time": "2023-11-12T02:04:03.259100300Z"
    }
   },
   "id": "d45fbebc45862558"
  },
  {
   "cell_type": "code",
   "execution_count": 20,
   "outputs": [
    {
     "data": {
      "text/plain": "device(type='cuda', index=0)"
     },
     "execution_count": 20,
     "metadata": {},
     "output_type": "execute_result"
    }
   ],
   "source": [
    "gpu_pred = network(t)\n",
    "gpu_pred.device"
   ],
   "metadata": {
    "collapsed": false,
    "ExecuteTime": {
     "end_time": "2023-11-12T02:18:22.329802900Z",
     "start_time": "2023-11-12T02:04:48.628025300Z"
    }
   },
   "id": "a793aee6d0765bd1"
  },
  {
   "cell_type": "markdown",
   "source": [
    "# Working with Tersors"
   ],
   "metadata": {
    "collapsed": false
   },
   "id": "68c9eb571bf9d088"
  },
  {
   "cell_type": "code",
   "execution_count": 23,
   "outputs": [],
   "source": [
    "t1 = torch.tensor(\n",
    "    [[1, 2],\n",
    "     [3, 4]]\n",
    ")\n",
    "t2 = torch.tensor(\n",
    "    [[5, 6],\n",
    "     [7, 8]]\n",
    ")"
   ],
   "metadata": {
    "collapsed": false,
    "ExecuteTime": {
     "end_time": "2023-11-12T02:53:57.336444900Z",
     "start_time": "2023-11-12T02:53:57.324123100Z"
    }
   },
   "id": "da4c43f28602eb57"
  },
  {
   "cell_type": "code",
   "execution_count": 24,
   "outputs": [
    {
     "data": {
      "text/plain": "(device(type='cpu'), device(type='cpu'))"
     },
     "execution_count": 24,
     "metadata": {},
     "output_type": "execute_result"
    }
   ],
   "source": [
    "t1.device, t2.device"
   ],
   "metadata": {
    "collapsed": false,
    "ExecuteTime": {
     "end_time": "2023-11-12T02:54:12.297781200Z",
     "start_time": "2023-11-12T02:54:12.259566100Z"
    }
   },
   "id": "f47005024188809c"
  },
  {
   "cell_type": "code",
   "execution_count": 25,
   "outputs": [
    {
     "data": {
      "text/plain": "device(type='cuda', index=0)"
     },
     "execution_count": 25,
     "metadata": {},
     "output_type": "execute_result"
    }
   ],
   "source": [
    "t1 = t1.to('cuda')\n",
    "t1.device"
   ],
   "metadata": {
    "collapsed": false,
    "ExecuteTime": {
     "end_time": "2023-11-12T02:57:30.319825200Z",
     "start_time": "2023-11-12T02:57:30.271221900Z"
    }
   },
   "id": "8b6de6b4ec246d49"
  },
  {
   "cell_type": "code",
   "execution_count": 26,
   "outputs": [
    {
     "name": "stdout",
     "output_type": "stream",
     "text": [
      "expected device cuda:0 but got device cpu\n"
     ]
    }
   ],
   "source": [
    "try:\n",
    "    t1 + t2\n",
    "except Exception as e:\n",
    "    print(e)"
   ],
   "metadata": {
    "collapsed": false,
    "ExecuteTime": {
     "end_time": "2023-11-12T02:58:05.447618700Z",
     "start_time": "2023-11-12T02:58:05.434474600Z"
    }
   },
   "id": "74bcf9178de4d093"
  },
  {
   "cell_type": "code",
   "execution_count": 27,
   "outputs": [
    {
     "name": "stdout",
     "output_type": "stream",
     "text": [
      "expected device cpu but got device cuda:0\n"
     ]
    }
   ],
   "source": [
    "try:\n",
    "    t2 + t1\n",
    "except Exception as e:\n",
    "    print(e)"
   ],
   "metadata": {
    "collapsed": false,
    "ExecuteTime": {
     "end_time": "2023-11-12T02:58:37.334193800Z",
     "start_time": "2023-11-12T02:58:37.284225700Z"
    }
   },
   "id": "cdae73d78e8051ba"
  },
  {
   "cell_type": "code",
   "execution_count": 28,
   "outputs": [],
   "source": [
    "t2 = t2.to('cuda')"
   ],
   "metadata": {
    "collapsed": false,
    "ExecuteTime": {
     "end_time": "2023-11-12T02:58:50.820092Z",
     "start_time": "2023-11-12T02:58:50.793762400Z"
    }
   },
   "id": "7cbb2a72ea710333"
  },
  {
   "cell_type": "code",
   "execution_count": 29,
   "outputs": [
    {
     "data": {
      "text/plain": "tensor([[ 6,  8],\n        [10, 12]], device='cuda:0')"
     },
     "execution_count": 29,
     "metadata": {},
     "output_type": "execute_result"
    }
   ],
   "source": [
    "t1 + t2"
   ],
   "metadata": {
    "collapsed": false,
    "ExecuteTime": {
     "end_time": "2023-11-12T02:59:03.920703700Z",
     "start_time": "2023-11-12T02:59:03.884270800Z"
    }
   },
   "id": "d32043cf0a304e66"
  },
  {
   "cell_type": "code",
   "execution_count": 1,
   "outputs": [
    {
     "ename": "NameError",
     "evalue": "name 'Network' is not defined",
     "output_type": "error",
     "traceback": [
      "\u001B[1;31m---------------------------------------------------------------------------\u001B[0m",
      "\u001B[1;31mNameError\u001B[0m                                 Traceback (most recent call last)",
      "Cell \u001B[1;32mIn[1], line 1\u001B[0m\n\u001B[1;32m----> 1\u001B[0m network\u001B[38;5;241m=\u001B[39m\u001B[43mNetwork\u001B[49m()\n",
      "\u001B[1;31mNameError\u001B[0m: name 'Network' is not defined"
     ]
    }
   ],
   "source": [
    "network=Network()"
   ],
   "metadata": {
    "collapsed": false,
    "ExecuteTime": {
     "end_time": "2023-11-12T12:14:48.548224400Z",
     "start_time": "2023-11-12T12:14:47.929829900Z"
    }
   },
   "id": "6891bd6c4dcaf2fb"
  },
  {
   "cell_type": "code",
   "execution_count": null,
   "outputs": [],
   "source": [],
   "metadata": {
    "collapsed": false
   },
   "id": "edba631da948e74"
  }
 ],
 "metadata": {
  "kernelspec": {
   "name": "py3.8.13",
   "language": "python",
   "display_name": "py3.8.13"
  },
  "language_info": {
   "codemirror_mode": {
    "name": "ipython",
    "version": 2
   },
   "file_extension": ".py",
   "mimetype": "text/x-python",
   "name": "python",
   "nbconvert_exporter": "python",
   "pygments_lexer": "ipython2",
   "version": "2.7.6"
  }
 },
 "nbformat": 4,
 "nbformat_minor": 5
}
